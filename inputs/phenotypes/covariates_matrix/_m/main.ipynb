{
 "cells": [
  {
   "cell_type": "markdown",
   "metadata": {},
   "source": [
    "# Generate covariates matrix"
   ]
  },
  {
   "cell_type": "code",
   "execution_count": 1,
   "metadata": {
    "execution": {
     "iopub.execute_input": "2021-09-02T20:37:54.367638Z",
     "iopub.status.busy": "2021-09-02T20:37:54.365549Z",
     "iopub.status.idle": "2021-09-02T20:38:01.408698Z",
     "shell.execute_reply": "2021-09-02T20:38:01.407044Z"
    }
   },
   "outputs": [],
   "source": [
    "suppressMessages({\n",
    "    library(SummarizedExperiment)\n",
    "    library(tidyverse)\n",
    "})"
   ]
  },
  {
   "cell_type": "code",
   "execution_count": 2,
   "metadata": {
    "execution": {
     "iopub.execute_input": "2021-09-02T20:38:01.448395Z",
     "iopub.status.busy": "2021-09-02T20:38:01.414764Z",
     "iopub.status.idle": "2021-09-02T20:38:01.464979Z",
     "shell.execute_reply": "2021-09-02T20:38:01.463541Z"
    }
   },
   "outputs": [],
   "source": [
    "# Function from jaffelab github\n",
    "merge_rse_metrics <- function(rse) {\n",
    "    stopifnot(is(rse, 'RangedSummarizedExperiment'))\n",
    "\n",
    "    rse$overallMapRate = mapply(function(r, n) {\n",
    "        sum(r*n)/sum(n)\n",
    "    }, rse$overallMapRate, rse$numReads)\n",
    "    rse$mitoRate = mapply(function(r, n) {\n",
    "        sum(r*n)/sum(n)\n",
    "    }, rse$mitoRate, rse$numMapped)\n",
    "    rse$rRNA_rate = mapply(function(r, n) {\n",
    "        sum(r*n)/sum(n)\n",
    "    }, rse$rRNA_rate, rse$numMapped)\n",
    "    rse$totalAssignedGene = mapply(function(r, n) {\n",
    "        sum(r*n)/sum(n)\n",
    "    }, rse$totalAssignedGene, rse$numMapped)\n",
    "\n",
    "    rse$numMapped = sapply(rse$numMapped, sum)\n",
    "    rse$numReads = sapply(rse$numReads, sum)\n",
    "    rse$numUnmapped = sapply(rse$numUnmapped, sum)\n",
    "    rse$mitoMapped = sapply(rse$mitoMapped, sum)\n",
    "    rse$totalMapped = sapply(rse$totalMapped, sum)\n",
    "    return(rse)\n",
    "}\n",
    "\n",
    "\n",
    "prep_covs <- function(tissue){\n",
    "    ancestry = \"../../../ancestry_structure/structure.out_ancestry_proportion_raceDemo_compare\"\n",
    "    counts_lt = list(\"caudate\"=\"../../../counts/_m/caudate_brainseq_phase3_hg38_rseGene_merged_n464.rda\", \n",
    "                     \"dg\"=\"../../../counts/_m/astellas_dg_hg38_rseGene_n263.rda\", \n",
    "                     'dlpfc'=\"../../../counts/_m/dlpfc_ribozero_brainseq_phase2_hg38_rseGene_merged_n453.rda\", \n",
    "                     \"hippocampus\"=\"../../../counts/_m/hippo_brainseq_phase2_hg38_rseGene_merged_n447.rda\")\n",
    "    qsv_lt = list(\"caudate\"=\"../../_m/qSV_caudate.csv\", \"dg\"=\"../../_m/qSV_dg.csv\", \n",
    "                  \"dlpfc\"=\"../../_m/qSV_dlpfc.csv\", \"hippocampus\"=\"../../_m/qSV_hippo.csv\")\n",
    "    load(counts_lt[[tissue]])\n",
    "    rse_df = rse_gene\n",
    "    keepIndex = which((rse_df$Dx %in% c(\"Control\", \"Schizo\")) & \n",
    "                      rse_df$Race %in% c(\"AA\", \"CAUC\"))\n",
    "    rse_df = rse_df[, keepIndex]\n",
    "    rse_df <- merge_rse_metrics(rse_df)\n",
    "    colData(rse_df)$RIN = sapply(colData(rse_df)$RIN,\"[\",1)\n",
    "    rownames(colData(rse_df)) <- sapply(strsplit(rownames(colData(rse_df)), \"_\"), \"[\", 1)\n",
    "    pheno = colData(rse_df) %>% as.data.frame %>% \n",
    "        inner_join(data.table::fread(ancestry), by=c(\"BrNum\"=\"id\", \"Race\"=\"group\")) %>%\n",
    "        select(RNum, Eur, Dx, Sex, Age, mitoRate, rRNA_rate, totalAssignedGene, overallMapRate) %>%\n",
    "        column_to_rownames(\"RNum\")\n",
    "    mod = model.matrix(~Eur + Dx + Sex + Age + mitoRate + rRNA_rate + \n",
    "                       totalAssignedGene + overallMapRate, data = pheno)\n",
    "    colnames(mod) <- gsub(\"Dx\", \"\", colnames(mod))\n",
    "    colnames(mod) <- gsub(\"SexM\", \"Male\", colnames(mod))\n",
    "    colnames(mod) <- gsub(\"Eur\", \"EA\", colnames(mod))\n",
    "    colnames(mod) <- gsub(\"\\\\(Intercept\\\\)\", \"Intercept\", colnames(mod))\n",
    "    mod %>% as.data.frame %>% rownames_to_column(\"RNum\") %>% \n",
    "        inner_join(data.table::fread(qsv_lt[[tissue]]), by=c(\"RNum\"=\"V1\")) %>% \n",
    "        rename_all(list(~str_replace_all(., 'PC', 'qPC'))) %>%\n",
    "        data.table::fwrite(paste0(tissue, \"_covariates.csv\"), sep=',')\n",
    "}"
   ]
  },
  {
   "cell_type": "markdown",
   "metadata": {},
   "source": [
    "## Main loop"
   ]
  },
  {
   "cell_type": "code",
   "execution_count": 3,
   "metadata": {
    "execution": {
     "iopub.execute_input": "2021-09-02T20:38:01.471599Z",
     "iopub.status.busy": "2021-09-02T20:38:01.470186Z",
     "iopub.status.idle": "2021-09-02T20:38:16.459991Z",
     "shell.execute_reply": "2021-09-02T20:38:16.458934Z"
    }
   },
   "outputs": [],
   "source": [
    "for(tissue in c(\"caudate\", \"dg\", \"dlpfc\", \"hippocampus\")){\n",
    "    prep_covs(tissue)\n",
    "}"
   ]
  },
  {
   "cell_type": "markdown",
   "metadata": {},
   "source": [
    "## Reproducibility Information"
   ]
  },
  {
   "cell_type": "code",
   "execution_count": 4,
   "metadata": {
    "execution": {
     "iopub.execute_input": "2021-09-02T20:38:16.466750Z",
     "iopub.status.busy": "2021-09-02T20:38:16.465516Z",
     "iopub.status.idle": "2021-09-02T20:38:16.643969Z",
     "shell.execute_reply": "2021-09-02T20:38:16.642426Z"
    }
   },
   "outputs": [
    {
     "data": {
      "text/plain": [
       "[1] \"2021-09-02 16:38:16 EDT\""
      ]
     },
     "metadata": {},
     "output_type": "display_data"
    },
    {
     "data": {
      "text/plain": [
       "   user  system elapsed \n",
       " 20.484   1.677  22.975 "
      ]
     },
     "metadata": {},
     "output_type": "display_data"
    },
    {
     "data": {
      "text/plain": [
       "─ Session info ───────────────────────────────────────────────────────────────────────────────────────────────────────\n",
       " setting  value                       \n",
       " version  R version 4.0.3 (2020-10-10)\n",
       " os       Arch Linux                  \n",
       " system   x86_64, linux-gnu           \n",
       " ui       X11                         \n",
       " language (EN)                        \n",
       " collate  en_US.UTF-8                 \n",
       " ctype    en_US.UTF-8                 \n",
       " tz       America/New_York            \n",
       " date     2021-09-02                  \n",
       "\n",
       "─ Packages ───────────────────────────────────────────────────────────────────────────────────────────────────────────\n",
       " package              * version  date       lib source        \n",
       " assertthat             0.2.1    2019-03-21 [1] CRAN (R 4.0.2)\n",
       " backports              1.2.1    2020-12-09 [1] CRAN (R 4.0.2)\n",
       " base64enc              0.1-3    2015-07-28 [1] CRAN (R 4.0.2)\n",
       " Biobase              * 2.50.0   2020-10-27 [1] Bioconductor  \n",
       " BiocGenerics         * 0.36.1   2021-04-16 [1] Bioconductor  \n",
       " bitops                 1.0-7    2021-04-24 [1] CRAN (R 4.0.3)\n",
       " broom                  0.7.8    2021-06-24 [1] CRAN (R 4.0.3)\n",
       " cellranger             1.1.0    2016-07-27 [1] CRAN (R 4.0.2)\n",
       " cli                    3.0.0    2021-06-30 [1] CRAN (R 4.0.3)\n",
       " colorspace             2.0-2    2021-06-24 [1] CRAN (R 4.0.3)\n",
       " crayon                 1.4.1    2021-02-08 [1] CRAN (R 4.0.3)\n",
       " data.table             1.14.0   2021-02-21 [1] CRAN (R 4.0.3)\n",
       " DBI                    1.1.1    2021-01-15 [1] CRAN (R 4.0.2)\n",
       " dbplyr                 2.1.1    2021-04-06 [1] CRAN (R 4.0.3)\n",
       " DelayedArray           0.16.3   2021-03-24 [1] Bioconductor  \n",
       " digest                 0.6.27   2020-10-24 [1] CRAN (R 4.0.2)\n",
       " dplyr                * 1.0.7    2021-06-18 [1] CRAN (R 4.0.3)\n",
       " ellipsis               0.3.2    2021-04-29 [1] CRAN (R 4.0.3)\n",
       " evaluate               0.14     2019-05-28 [1] CRAN (R 4.0.2)\n",
       " fansi                  0.5.0    2021-05-25 [1] CRAN (R 4.0.3)\n",
       " forcats              * 0.5.1    2021-01-27 [1] CRAN (R 4.0.2)\n",
       " fs                     1.5.0    2020-07-31 [1] CRAN (R 4.0.2)\n",
       " generics               0.1.0    2020-10-31 [1] CRAN (R 4.0.2)\n",
       " GenomeInfoDb         * 1.26.7   2021-04-08 [1] Bioconductor  \n",
       " GenomeInfoDbData       1.2.4    2021-02-02 [1] Bioconductor  \n",
       " GenomicRanges        * 1.42.0   2020-10-27 [1] Bioconductor  \n",
       " ggplot2              * 3.3.5    2021-06-25 [1] CRAN (R 4.0.3)\n",
       " glue                   1.4.2    2020-08-27 [1] CRAN (R 4.0.2)\n",
       " gtable                 0.3.0    2019-03-25 [1] CRAN (R 4.0.2)\n",
       " haven                  2.4.1    2021-04-23 [1] CRAN (R 4.0.3)\n",
       " hms                    1.1.0    2021-05-17 [1] CRAN (R 4.0.3)\n",
       " htmltools              0.5.1.1  2021-01-22 [1] CRAN (R 4.0.2)\n",
       " httr                   1.4.2    2020-07-20 [1] CRAN (R 4.0.2)\n",
       " IRanges              * 2.24.1   2020-12-12 [1] Bioconductor  \n",
       " IRdisplay              1.0      2021-01-20 [1] CRAN (R 4.0.2)\n",
       " IRkernel               1.2      2021-05-11 [1] CRAN (R 4.0.3)\n",
       " jsonlite               1.7.2    2020-12-09 [1] CRAN (R 4.0.2)\n",
       " lattice                0.20-41  2020-04-02 [2] CRAN (R 4.0.3)\n",
       " lifecycle              1.0.0    2021-02-15 [1] CRAN (R 4.0.3)\n",
       " lubridate              1.7.10   2021-02-26 [1] CRAN (R 4.0.3)\n",
       " magrittr               2.0.1    2020-11-17 [1] CRAN (R 4.0.2)\n",
       " Matrix                 1.3-4    2021-06-01 [1] CRAN (R 4.0.3)\n",
       " MatrixGenerics       * 1.2.1    2021-01-30 [1] Bioconductor  \n",
       " matrixStats          * 0.59.0   2021-06-01 [1] CRAN (R 4.0.3)\n",
       " modelr                 0.1.8    2020-05-19 [1] CRAN (R 4.0.2)\n",
       " munsell                0.5.0    2018-06-12 [1] CRAN (R 4.0.2)\n",
       " pbdZMQ                 0.3-5    2021-02-10 [1] CRAN (R 4.0.3)\n",
       " pillar                 1.6.1    2021-05-16 [1] CRAN (R 4.0.3)\n",
       " pkgconfig              2.0.3    2019-09-22 [1] CRAN (R 4.0.2)\n",
       " purrr                * 0.3.4    2020-04-17 [1] CRAN (R 4.0.2)\n",
       " R6                     2.5.0    2020-10-28 [1] CRAN (R 4.0.2)\n",
       " Rcpp                   1.0.7    2021-07-07 [1] CRAN (R 4.0.3)\n",
       " RCurl                  1.98-1.3 2021-03-16 [1] CRAN (R 4.0.3)\n",
       " readr                * 1.4.0    2020-10-05 [1] CRAN (R 4.0.2)\n",
       " readxl                 1.3.1    2019-03-13 [1] CRAN (R 4.0.2)\n",
       " repr                   1.1.3    2021-01-21 [1] CRAN (R 4.0.2)\n",
       " reprex                 2.0.0    2021-04-02 [1] CRAN (R 4.0.3)\n",
       " rlang                  0.4.11   2021-04-30 [1] CRAN (R 4.0.3)\n",
       " rstudioapi             0.13     2020-11-12 [1] CRAN (R 4.0.2)\n",
       " rvest                  1.0.0    2021-03-09 [1] CRAN (R 4.0.3)\n",
       " S4Vectors            * 0.28.1   2020-12-09 [1] Bioconductor  \n",
       " scales                 1.1.1    2020-05-11 [1] CRAN (R 4.0.2)\n",
       " sessioninfo            1.1.1    2018-11-05 [1] CRAN (R 4.0.2)\n",
       " stringi                1.7.3    2021-07-16 [1] CRAN (R 4.0.3)\n",
       " stringr              * 1.4.0    2019-02-10 [1] CRAN (R 4.0.2)\n",
       " SummarizedExperiment * 1.20.0   2020-10-27 [1] Bioconductor  \n",
       " tibble               * 3.1.2    2021-05-16 [1] CRAN (R 4.0.3)\n",
       " tidyr                * 1.1.3    2021-03-03 [1] CRAN (R 4.0.3)\n",
       " tidyselect             1.1.1    2021-04-30 [1] CRAN (R 4.0.3)\n",
       " tidyverse            * 1.3.1    2021-04-15 [1] CRAN (R 4.0.3)\n",
       " utf8                   1.2.1    2021-03-12 [1] CRAN (R 4.0.3)\n",
       " uuid                   0.1-4    2020-02-26 [1] CRAN (R 4.0.2)\n",
       " vctrs                  0.3.8    2021-04-29 [1] CRAN (R 4.0.3)\n",
       " withr                  2.4.2    2021-04-18 [1] CRAN (R 4.0.3)\n",
       " xml2                   1.3.2    2020-04-23 [1] CRAN (R 4.0.2)\n",
       " XVector                0.30.0   2020-10-27 [1] Bioconductor  \n",
       " zlibbioc               1.36.0   2020-10-27 [1] Bioconductor  \n",
       "\n",
       "[1] /home/jbenja13/R/x86_64-pc-linux-gnu-library/4.0\n",
       "[2] /usr/lib/R/library"
      ]
     },
     "metadata": {},
     "output_type": "display_data"
    }
   ],
   "source": [
    "Sys.time()\n",
    "proc.time()\n",
    "options(width = 120)\n",
    "sessioninfo::session_info()"
   ]
  }
 ],
 "metadata": {
  "kernelspec": {
   "display_name": "R",
   "language": "R",
   "name": "ir"
  },
  "language_info": {
   "codemirror_mode": "r",
   "file_extension": ".r",
   "mimetype": "text/x-r-source",
   "name": "R",
   "pygments_lexer": "r",
   "version": "4.0.3"
  }
 },
 "nbformat": 4,
 "nbformat_minor": 4
}
