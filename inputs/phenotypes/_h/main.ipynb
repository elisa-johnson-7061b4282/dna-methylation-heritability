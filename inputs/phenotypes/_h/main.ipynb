{
 "cells": [
  {
   "cell_type": "markdown",
   "metadata": {},
   "source": [
    "# Generate phenotypes"
   ]
  },
  {
   "cell_type": "code",
   "execution_count": 1,
   "metadata": {},
   "outputs": [],
   "source": [
    "suppressMessages({library(SummarizedExperiment)\n",
    "                  library(dplyr)\n",
    "                  library(sva)\n",
    "                 })"
   ]
  },
  {
   "cell_type": "markdown",
   "metadata": {},
   "source": [
    "## Function"
   ]
  },
  {
   "cell_type": "code",
   "execution_count": 2,
   "metadata": {},
   "outputs": [],
   "source": [
    "# Function from jaffelab github\n",
    "merge_rse_metrics <- function(rse) {\n",
    "    stopifnot(is(rse, 'RangedSummarizedExperiment'))\n",
    "\n",
    "    rse$overallMapRate = mapply(function(r, n) {\n",
    "        sum(r*n)/sum(n)\n",
    "    }, rse$overallMapRate, rse$numReads)\n",
    "    rse$mitoRate = mapply(function(r, n) {\n",
    "        sum(r*n)/sum(n)\n",
    "    }, rse$mitoRate, rse$numMapped)\n",
    "    rse$rRNA_rate = mapply(function(r, n) {\n",
    "        sum(r*n)/sum(n)\n",
    "    }, rse$rRNA_rate, rse$numMapped)\n",
    "    rse$totalAssignedGene = mapply(function(r, n) {\n",
    "        sum(r*n)/sum(n)\n",
    "    }, rse$totalAssignedGene, rse$numMapped)\n",
    "\n",
    "    rse$numMapped = sapply(rse$numMapped, sum)\n",
    "    rse$numReads = sapply(rse$numReads, sum)\n",
    "    rse$numUnmapped = sapply(rse$numUnmapped, sum)\n",
    "    rse$mitoMapped = sapply(rse$mitoMapped, sum)\n",
    "    rse$totalMapped = sapply(rse$totalMapped, sum)\n",
    "    return(rse)\n",
    "}"
   ]
  },
  {
   "cell_type": "markdown",
   "metadata": {},
   "source": [
    "## Main"
   ]
  },
  {
   "cell_type": "code",
   "execution_count": 3,
   "metadata": {},
   "outputs": [],
   "source": [
    "fields = c('BrNum', 'RNum', 'Region', 'RIN', 'Age', 'Sex', 'Race', \n",
    "           'Dx', 'mitoRate', 'rRNA_rate', 'overallMapRate')"
   ]
  },
  {
   "cell_type": "code",
   "execution_count": null,
   "metadata": {},
   "outputs": [],
   "source": [
    "load(\"../../counts/_m/degradation_rse_phase3_caudate.rda\")\n",
    "dm <- assays(cov_rse_caudate)$counts\n",
    "qSV <- qsva(dm)\n",
    "\n",
    "if(\"TRUE\" %in% grepl(\"_\", rownames(qSV))){# Remove underscore if needed                       \n",
    "    rownames(qSV) <- sapply(strsplit(rownames(qSV), \"_\"), \"[\", 1)\n",
    "}\n",
    "qSV %>% as.data.frame %>% write.csv(\"qSV_caudate.csv\")\n",
    "\n",
    "load('../../counts/_m/caudate_brainseq_phase3_hg38_rseGene_merged_n464.rda')\n",
    "\n",
    "rse_gene <- merge_rse_metrics(rse_gene)\n",
    "colData(rse_gene)$RIN = sapply(colData(rse_gene)$RIN,\"[\",1)\n",
    "\n",
    "colData(rse_gene)[,fields] %>% \n",
    "    as.data.frame %>% write.csv(file = 'caudate_phenotypes.csv')"
   ]
  },
  {
   "cell_type": "code",
   "execution_count": 5,
   "metadata": {},
   "outputs": [],
   "source": [
    "load(\"../../counts/_m/degradation_rse_phase2_dlpfc.rda\")\n",
    "dm <- assays(cov_rse_dlpfc)$counts\n",
    "qSV <- qsva(dm)\n",
    "\n",
    "if(\"TRUE\" %in% grepl(\"_\", rownames(qSV))){# Remove underscore if needed                       \n",
    "    rownames(qSV) <- sapply(strsplit(rownames(qSV), \"_\"), \"[\", 1)\n",
    "}\n",
    "qSV %>% as.data.frame %>% write.csv(\"qSV_dlpfc.csv\")\n",
    "\n",
    "load('../../counts/_m/dlpfc_ribozero_brainseq_phase2_hg38_rseGene_merged_n453.rda')\n",
    "\n",
    "rse_gene <- merge_rse_metrics(rse_gene)\n",
    "colData(rse_gene)$RIN = sapply(colData(rse_gene)$RIN,\"[\",1)\n",
    "\n",
    "colData(rse_gene)[,fields] %>% \n",
    "    as.data.frame %>% write.csv(file = 'dlpfc_phenotypes.csv')"
   ]
  },
  {
   "cell_type": "code",
   "execution_count": 7,
   "metadata": {},
   "outputs": [],
   "source": [
    "load(\"../../counts/_m/degradation_rse_phase2_hippo.rda\")\n",
    "dm <- assays(cov_rse_hippo)$counts\n",
    "qSV <- qsva(dm)\n",
    "\n",
    "if(\"TRUE\" %in% grepl(\"_\", rownames(qSV))){# Remove underscore if needed                       \n",
    "    rownames(qSV) <- sapply(strsplit(rownames(qSV), \"_\"), \"[\", 1)\n",
    "}\n",
    "qSV %>% as.data.frame %>% write.csv(\"qSV_hippo.csv\")\n",
    "\n",
    "load(\"../../counts/_m/hippo_brainseq_phase2_hg38_rseGene_merged_n447.rda\")\n",
    "\n",
    "rse_gene <- merge_rse_metrics(rse_gene)\n",
    "colData(rse_gene)$RIN = sapply(colData(rse_gene)$RIN,\"[\",1)\n",
    "\n",
    "colData(rse_gene)[,fields] %>% as.data.frame %>% \n",
    "    write.csv(file = 'hippo_phenotypes.csv')"
   ]
  },
  {
   "cell_type": "code",
   "execution_count": 4,
   "metadata": {},
   "outputs": [],
   "source": [
    "load(\"../../counts/_m/degradation_rse_dg_hippo_n263.rda\")\n",
    "\n",
    "dm <- assays(cov_rse)$counts\n",
    "qSV <- qsva(dm)\n",
    "\n",
    "if(\"TRUE\" %in% grepl(\"_\", rownames(qSV))){# Remove underscore if needed                       \n",
    "    rownames(qSV) <- sapply(strsplit(rownames(qSV), \"_\"), \"[\", 1)\n",
    "}\n",
    "qSV %>% as.data.frame %>% write.csv(\"qSV_dg.csv\")\n",
    "\n",
    "load(\"../../counts/_m/astellas_dg_hg38_rseGene_n263.rda\")\n",
    "\n",
    "rse_gene <- merge_rse_metrics(rse_gene)\n",
    "colData(rse_gene)$RIN = sapply(colData(rse_gene)$RIN,\"[\",1)\n",
    "rownames(colData(rse_gene)) <- sapply(strsplit(rownames(colData(rse_gene)), \"_\"), \"[\", 1)\n",
    "\n",
    "dg_hippo = colData(rse_gene)[,fields] %>% as.data.frame %>% \n",
    "    write.csv(file = 'dg_phenotypes.csv')"
   ]
  },
  {
   "cell_type": "markdown",
   "metadata": {},
   "source": [
    "## Repreducibility Information"
   ]
  },
  {
   "cell_type": "code",
   "execution_count": null,
   "metadata": {},
   "outputs": [],
   "source": [
    "Sys.time()\n",
    "proc.time()\n",
    "options(width = 120)\n",
    "sessioninfo::session_info()"
   ]
  }
 ],
 "metadata": {
  "kernelspec": {
   "display_name": "R",
   "language": "R",
   "name": "ir"
  },
  "language_info": {
   "codemirror_mode": "r",
   "file_extension": ".r",
   "mimetype": "text/x-r-source",
   "name": "R",
   "pygments_lexer": "r",
   "version": "4.3.1"
  }
 },
 "nbformat": 4,
 "nbformat_minor": 4
}
