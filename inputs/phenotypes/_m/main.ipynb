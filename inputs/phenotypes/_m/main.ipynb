{
 "cells": [
  {
   "cell_type": "markdown",
   "metadata": {},
   "source": [
    "# Generate phenotypes"
   ]
  },
  {
   "cell_type": "code",
   "execution_count": 1,
   "metadata": {
    "execution": {
     "iopub.execute_input": "2021-07-10T14:52:28.729056Z",
     "iopub.status.busy": "2021-07-10T14:52:28.727003Z",
     "iopub.status.idle": "2021-07-10T14:52:38.562847Z",
     "shell.execute_reply": "2021-07-10T14:52:38.561289Z"
    }
   },
   "outputs": [],
   "source": [
    "suppressMessages({library(SummarizedExperiment)\n",
    "                  library(dplyr)\n",
    "                  library(sva)})"
   ]
  },
  {
   "cell_type": "markdown",
   "metadata": {},
   "source": [
    "## Function"
   ]
  },
  {
   "cell_type": "code",
   "execution_count": 2,
   "metadata": {
    "execution": {
     "iopub.execute_input": "2021-07-10T14:52:38.609794Z",
     "iopub.status.busy": "2021-07-10T14:52:38.568790Z",
     "iopub.status.idle": "2021-07-10T14:52:38.627286Z",
     "shell.execute_reply": "2021-07-10T14:52:38.625724Z"
    }
   },
   "outputs": [],
   "source": [
    "# Function from jaffelab github\n",
    "merge_rse_metrics <- function(rse) {\n",
    "    stopifnot(is(rse, 'RangedSummarizedExperiment'))\n",
    "\n",
    "    rse$overallMapRate = mapply(function(r, n) {\n",
    "        sum(r*n)/sum(n)\n",
    "    }, rse$overallMapRate, rse$numReads)\n",
    "    rse$mitoRate = mapply(function(r, n) {\n",
    "        sum(r*n)/sum(n)\n",
    "    }, rse$mitoRate, rse$numMapped)\n",
    "    rse$rRNA_rate = mapply(function(r, n) {\n",
    "        sum(r*n)/sum(n)\n",
    "    }, rse$rRNA_rate, rse$numMapped)\n",
    "    rse$totalAssignedGene = mapply(function(r, n) {\n",
    "        sum(r*n)/sum(n)\n",
    "    }, rse$totalAssignedGene, rse$numMapped)\n",
    "\n",
    "    rse$numMapped = sapply(rse$numMapped, sum)\n",
    "    rse$numReads = sapply(rse$numReads, sum)\n",
    "    rse$numUnmapped = sapply(rse$numUnmapped, sum)\n",
    "    rse$mitoMapped = sapply(rse$mitoMapped, sum)\n",
    "    rse$totalMapped = sapply(rse$totalMapped, sum)\n",
    "    return(rse)\n",
    "}"
   ]
  },
  {
   "cell_type": "markdown",
   "metadata": {},
   "source": [
    "## Main"
   ]
  },
  {
   "cell_type": "code",
   "execution_count": 3,
   "metadata": {
    "execution": {
     "iopub.execute_input": "2021-07-10T14:52:38.636115Z",
     "iopub.status.busy": "2021-07-10T14:52:38.634004Z",
     "iopub.status.idle": "2021-07-10T14:52:38.650692Z",
     "shell.execute_reply": "2021-07-10T14:52:38.648663Z"
    }
   },
   "outputs": [],
   "source": [
    "fields = c('BrNum', 'RNum', 'Region', 'RIN', 'Age', 'Sex', 'Race', \n",
    "           'Dx', 'mitoRate', 'rRNA_rate', 'overallMapRate')"
   ]
  },
  {
   "cell_type": "code",
   "execution_count": 4,
   "metadata": {
    "execution": {
     "iopub.execute_input": "2021-07-10T14:52:38.659869Z",
     "iopub.status.busy": "2021-07-10T14:52:38.657737Z",
     "iopub.status.idle": "2021-07-10T14:57:33.014369Z",
     "shell.execute_reply": "2021-07-10T14:57:33.012333Z"
    }
   },
   "outputs": [],
   "source": [
    "load(\"../../counts/_m/degradation_rse_phase3_caudate.rda\")\n",
    "dm <- assays(cov_rse_caudate)$counts\n",
    "qSV <- qsva(dm)\n",
    "\n",
    "if(\"TRUE\" %in% grepl(\"_\", rownames(qSV))){# Remove underscore if needed                       \n",
    "    rownames(qSV) <- sapply(strsplit(rownames(qSV), \"_\"), \"[\", 1)\n",
    "}\n",
    "qSV %>% as.data.frame %>% write.csv(\"qSV_caudate.csv\")\n",
    "\n",
    "load('../../counts/_m/caudate_brainseq_phase3_hg38_rseGene_merged_n464.rda')\n",
    "\n",
    "rse_gene <- merge_rse_metrics(rse_gene)\n",
    "colData(rse_gene)$RIN = sapply(colData(rse_gene)$RIN,\"[\",1)\n",
    "\n",
    "colData(rse_gene)[,fields] %>% \n",
    "    as.data.frame %>% write.csv(file = 'caudate_phenotypes.csv')"
   ]
  },
  {
   "cell_type": "code",
   "execution_count": 5,
   "metadata": {
    "execution": {
     "iopub.execute_input": "2021-07-10T14:57:33.047554Z",
     "iopub.status.busy": "2021-07-10T14:57:33.045764Z",
     "iopub.status.idle": "2021-07-10T15:02:07.241444Z",
     "shell.execute_reply": "2021-07-10T15:02:07.240702Z"
    }
   },
   "outputs": [],
   "source": [
    "load(\"../../counts/_m/degradation_rse_phase2_dlpfc.rda\")\n",
    "dm <- assays(cov_rse_dlpfc)$counts\n",
    "qSV <- qsva(dm)\n",
    "\n",
    "if(\"TRUE\" %in% grepl(\"_\", rownames(qSV))){# Remove underscore if needed                       \n",
    "    rownames(qSV) <- sapply(strsplit(rownames(qSV), \"_\"), \"[\", 1)\n",
    "}\n",
    "qSV %>% as.data.frame %>% write.csv(\"qSV_dlpfc.csv\")\n",
    "\n",
    "load('../../counts/_m/dlpfc_ribozero_brainseq_phase2_hg38_rseGene_merged_n453.rda')\n",
    "\n",
    "rse_gene <- merge_rse_metrics(rse_gene)\n",
    "colData(rse_gene)$RIN = sapply(colData(rse_gene)$RIN,\"[\",1)\n",
    "\n",
    "colData(rse_gene)[,fields] %>% \n",
    "    as.data.frame %>% write.csv(file = 'dlpfc_phenotypes.csv')"
   ]
  },
  {
   "cell_type": "code",
   "execution_count": 6,
   "metadata": {
    "execution": {
     "iopub.execute_input": "2021-07-10T15:02:07.274126Z",
     "iopub.status.busy": "2021-07-10T15:02:07.272638Z",
     "iopub.status.idle": "2021-07-10T15:05:31.637627Z",
     "shell.execute_reply": "2021-07-10T15:05:31.635465Z"
    }
   },
   "outputs": [],
   "source": [
    "load(\"../../counts/_m/degradation_rse_phase2_hippo.rda\")\n",
    "dm <- assays(cov_rse_hippo)$counts\n",
    "qSV <- qsva(dm)\n",
    "\n",
    "if(\"TRUE\" %in% grepl(\"_\", rownames(qSV))){# Remove underscore if needed                       \n",
    "    rownames(qSV) <- sapply(strsplit(rownames(qSV), \"_\"), \"[\", 1)\n",
    "}\n",
    "qSV %>% as.data.frame %>% write.csv(\"qSV_hippo.csv\")\n",
    "\n",
    "load(\"../../counts/_m/hippo_brainseq_phase2_hg38_rseGene_merged_n447.rda\")\n",
    "\n",
    "rse_gene <- merge_rse_metrics(rse_gene)\n",
    "colData(rse_gene)$RIN = sapply(colData(rse_gene)$RIN,\"[\",1)\n",
    "\n",
    "colData(rse_gene)[,fields] %>% as.data.frame %>% \n",
    "    write.csv(file = 'hippo_phenotypes.csv')"
   ]
  },
  {
   "cell_type": "code",
   "execution_count": 7,
   "metadata": {
    "execution": {
     "iopub.execute_input": "2021-07-10T15:05:31.664605Z",
     "iopub.status.busy": "2021-07-10T15:05:31.663130Z",
     "iopub.status.idle": "2021-07-10T15:06:34.152500Z",
     "shell.execute_reply": "2021-07-10T15:06:34.151285Z"
    }
   },
   "outputs": [],
   "source": [
    "load(\"../../counts/_m/degradation_rse_dg_hippo_n263.rda\")\n",
    "\n",
    "dm <- assays(cov_rse)$counts\n",
    "qSV <- qsva(dm)\n",
    "\n",
    "if(\"TRUE\" %in% grepl(\"_\", rownames(qSV))){# Remove underscore if needed                       \n",
    "    rownames(qSV) <- sapply(strsplit(rownames(qSV), \"_\"), \"[\", 1)\n",
    "}\n",
    "qSV %>% as.data.frame %>% write.csv(\"qSV_dg.csv\")\n",
    "\n",
    "load(\"../../counts/_m/astellas_dg_hg38_rseGene_n263.rda\")\n",
    "\n",
    "rse_gene <- merge_rse_metrics(rse_gene)\n",
    "colData(rse_gene)$RIN = sapply(colData(rse_gene)$RIN,\"[\",1)\n",
    "rownames(colData(rse_gene)) <- sapply(strsplit(rownames(colData(rse_gene)), \"_\"), \"[\", 1)\n",
    "\n",
    "dg_hippo = colData(rse_gene)[,fields] %>% as.data.frame %>% \n",
    "    write.csv(file = 'dg_phenotypes.csv')"
   ]
  },
  {
   "cell_type": "markdown",
   "metadata": {},
   "source": [
    "## Repreducibility Information"
   ]
  },
  {
   "cell_type": "code",
   "execution_count": 8,
   "metadata": {
    "execution": {
     "iopub.execute_input": "2021-07-10T15:06:34.165172Z",
     "iopub.status.busy": "2021-07-10T15:06:34.163700Z",
     "iopub.status.idle": "2021-07-10T15:06:34.578302Z",
     "shell.execute_reply": "2021-07-10T15:06:34.576559Z"
    }
   },
   "outputs": [
    {
     "data": {
      "text/plain": [
       "[1] \"2021-07-10 11:06:34 EDT\""
      ]
     },
     "metadata": {},
     "output_type": "display_data"
    },
    {
     "data": {
      "text/plain": [
       "    user   system  elapsed \n",
       "8797.312 4130.982  846.486 "
      ]
     },
     "metadata": {},
     "output_type": "display_data"
    },
    {
     "data": {
      "text/plain": [
       "─ Session info ───────────────────────────────────────────────────────────────────────────────────────────────────────\n",
       " setting  value                       \n",
       " version  R version 4.0.3 (2020-10-10)\n",
       " os       Arch Linux                  \n",
       " system   x86_64, linux-gnu           \n",
       " ui       X11                         \n",
       " language (EN)                        \n",
       " collate  en_US.UTF-8                 \n",
       " ctype    en_US.UTF-8                 \n",
       " tz       America/New_York            \n",
       " date     2021-07-10                  \n",
       "\n",
       "─ Packages ───────────────────────────────────────────────────────────────────────────────────────────────────────────\n",
       " package              * version  date       lib source        \n",
       " annotate               1.68.0   2020-10-27 [1] Bioconductor  \n",
       " AnnotationDbi          1.52.0   2020-10-27 [1] Bioconductor  \n",
       " assertthat             0.2.1    2019-03-21 [1] CRAN (R 4.0.2)\n",
       " base64enc              0.1-3    2015-07-28 [1] CRAN (R 4.0.2)\n",
       " Biobase              * 2.50.0   2020-10-27 [1] Bioconductor  \n",
       " BiocGenerics         * 0.36.1   2021-04-16 [1] Bioconductor  \n",
       " BiocParallel         * 1.24.1   2020-11-06 [1] Bioconductor  \n",
       " bit                    4.0.4    2020-08-04 [1] CRAN (R 4.0.2)\n",
       " bit64                  4.0.5    2020-08-30 [1] CRAN (R 4.0.2)\n",
       " bitops                 1.0-7    2021-04-24 [1] CRAN (R 4.0.3)\n",
       " blob                   1.2.1    2020-01-20 [1] CRAN (R 4.0.2)\n",
       " cachem                 1.0.5    2021-05-15 [1] CRAN (R 4.0.3)\n",
       " cli                    3.0.0    2021-06-30 [1] CRAN (R 4.0.3)\n",
       " crayon                 1.4.1    2021-02-08 [1] CRAN (R 4.0.3)\n",
       " DBI                    1.1.1    2021-01-15 [1] CRAN (R 4.0.2)\n",
       " DelayedArray           0.16.3   2021-03-24 [1] Bioconductor  \n",
       " digest                 0.6.27   2020-10-24 [1] CRAN (R 4.0.2)\n",
       " dplyr                * 1.0.7    2021-06-18 [1] CRAN (R 4.0.3)\n",
       " edgeR                  3.32.1   2021-01-14 [1] Bioconductor  \n",
       " ellipsis               0.3.2    2021-04-29 [1] CRAN (R 4.0.3)\n",
       " evaluate               0.14     2019-05-28 [1] CRAN (R 4.0.2)\n",
       " fansi                  0.5.0    2021-05-25 [1] CRAN (R 4.0.3)\n",
       " fastmap                1.1.0    2021-01-25 [1] CRAN (R 4.0.2)\n",
       " genefilter           * 1.72.1   2021-01-21 [1] Bioconductor  \n",
       " generics               0.1.0    2020-10-31 [1] CRAN (R 4.0.2)\n",
       " GenomeInfoDb         * 1.26.7   2021-04-08 [1] Bioconductor  \n",
       " GenomeInfoDbData       1.2.4    2021-02-02 [1] Bioconductor  \n",
       " GenomicRanges        * 1.42.0   2020-10-27 [1] Bioconductor  \n",
       " glue                   1.4.2    2020-08-27 [1] CRAN (R 4.0.2)\n",
       " htmltools              0.5.1.1  2021-01-22 [1] CRAN (R 4.0.2)\n",
       " httr                   1.4.2    2020-07-20 [1] CRAN (R 4.0.2)\n",
       " IRanges              * 2.24.1   2020-12-12 [1] Bioconductor  \n",
       " IRdisplay              1.0      2021-01-20 [1] CRAN (R 4.0.2)\n",
       " IRkernel               1.2      2021-05-11 [1] CRAN (R 4.0.3)\n",
       " jsonlite               1.7.2    2020-12-09 [1] CRAN (R 4.0.2)\n",
       " lattice                0.20-41  2020-04-02 [2] CRAN (R 4.0.3)\n",
       " lifecycle              1.0.0    2021-02-15 [1] CRAN (R 4.0.3)\n",
       " limma                  3.46.0   2020-10-27 [1] Bioconductor  \n",
       " locfit                 1.5-9.4  2020-03-25 [1] CRAN (R 4.0.2)\n",
       " magrittr               2.0.1    2020-11-17 [1] CRAN (R 4.0.2)\n",
       " Matrix                 1.3-4    2021-06-01 [1] CRAN (R 4.0.3)\n",
       " MatrixGenerics       * 1.2.1    2021-01-30 [1] Bioconductor  \n",
       " matrixStats          * 0.59.0   2021-06-01 [1] CRAN (R 4.0.3)\n",
       " memoise                2.0.0    2021-01-26 [1] CRAN (R 4.0.2)\n",
       " mgcv                 * 1.8-33   2020-08-27 [2] CRAN (R 4.0.3)\n",
       " nlme                 * 3.1-152  2021-02-04 [1] CRAN (R 4.0.3)\n",
       " pbdZMQ                 0.3-5    2021-02-10 [1] CRAN (R 4.0.3)\n",
       " pillar                 1.6.1    2021-05-16 [1] CRAN (R 4.0.3)\n",
       " pkgconfig              2.0.3    2019-09-22 [1] CRAN (R 4.0.2)\n",
       " purrr                  0.3.4    2020-04-17 [1] CRAN (R 4.0.2)\n",
       " R6                     2.5.0    2020-10-28 [1] CRAN (R 4.0.2)\n",
       " Rcpp                   1.0.7    2021-07-07 [1] CRAN (R 4.0.3)\n",
       " RCurl                  1.98-1.3 2021-03-16 [1] CRAN (R 4.0.3)\n",
       " repr                   1.1.3    2021-01-21 [1] CRAN (R 4.0.2)\n",
       " rlang                  0.4.11   2021-04-30 [1] CRAN (R 4.0.3)\n",
       " RSQLite                2.2.7    2021-04-22 [1] CRAN (R 4.0.3)\n",
       " S4Vectors            * 0.28.1   2020-12-09 [1] Bioconductor  \n",
       " sessioninfo            1.1.1    2018-11-05 [1] CRAN (R 4.0.2)\n",
       " SummarizedExperiment * 1.20.0   2020-10-27 [1] Bioconductor  \n",
       " survival               3.2-7    2020-09-28 [2] CRAN (R 4.0.3)\n",
       " sva                  * 3.38.0   2020-10-27 [1] Bioconductor  \n",
       " tibble                 3.1.2    2021-05-16 [1] CRAN (R 4.0.3)\n",
       " tidyselect             1.1.1    2021-04-30 [1] CRAN (R 4.0.3)\n",
       " utf8                   1.2.1    2021-03-12 [1] CRAN (R 4.0.3)\n",
       " uuid                   0.1-4    2020-02-26 [1] CRAN (R 4.0.2)\n",
       " vctrs                  0.3.8    2021-04-29 [1] CRAN (R 4.0.3)\n",
       " withr                  2.4.2    2021-04-18 [1] CRAN (R 4.0.3)\n",
       " XML                    3.99-0.6 2021-03-16 [1] CRAN (R 4.0.3)\n",
       " xtable                 1.8-4    2019-04-21 [1] CRAN (R 4.0.2)\n",
       " XVector                0.30.0   2020-10-27 [1] Bioconductor  \n",
       " zlibbioc               1.36.0   2020-10-27 [1] Bioconductor  \n",
       "\n",
       "[1] /home/jbenja13/R/x86_64-pc-linux-gnu-library/4.0\n",
       "[2] /usr/lib/R/library"
      ]
     },
     "metadata": {},
     "output_type": "display_data"
    }
   ],
   "source": [
    "Sys.time()\n",
    "proc.time()\n",
    "options(width = 120)\n",
    "sessioninfo::session_info()"
   ]
  }
 ],
 "metadata": {
  "kernelspec": {
   "display_name": "R",
   "language": "R",
   "name": "ir"
  },
  "language_info": {
   "codemirror_mode": "r",
   "file_extension": ".r",
   "mimetype": "text/x-r-source",
   "name": "R",
   "pygments_lexer": "r",
   "version": "4.0.3"
  }
 },
 "nbformat": 4,
 "nbformat_minor": 4
}
