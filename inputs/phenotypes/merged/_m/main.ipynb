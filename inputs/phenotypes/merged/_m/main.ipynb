{
 "cells": [
  {
   "cell_type": "markdown",
   "metadata": {},
   "source": [
    "# Combine phenootype information and save"
   ]
  },
  {
   "cell_type": "code",
   "execution_count": 1,
   "metadata": {
    "execution": {
     "iopub.execute_input": "2021-07-10T15:06:47.736616Z",
     "iopub.status.busy": "2021-07-10T15:06:47.735882Z",
     "iopub.status.idle": "2021-07-10T15:06:48.066528Z",
     "shell.execute_reply": "2021-07-10T15:06:48.067888Z"
    }
   },
   "outputs": [],
   "source": [
    "import pandas as pd"
   ]
  },
  {
   "cell_type": "code",
   "execution_count": 2,
   "metadata": {
    "execution": {
     "iopub.execute_input": "2021-07-10T15:06:48.075470Z",
     "iopub.status.busy": "2021-07-10T15:06:48.072919Z",
     "iopub.status.idle": "2021-07-10T15:06:48.133366Z",
     "shell.execute_reply": "2021-07-10T15:06:48.133918Z"
    }
   },
   "outputs": [
    {
     "data": {
      "text/plain": [
       "(1627, 11)"
      ]
     },
     "execution_count": 1,
     "metadata": {},
     "output_type": "execute_result"
    }
   ],
   "source": [
    "df = pd.concat((pd.read_csv('../../_m/%s_phenotypes.csv' % x, index_col=0) \n",
    "                for x in ['caudate', 'dlpfc', 'hippo', 'dg']))\n",
    "df.to_csv('merged_phenotypes.csv')\n",
    "df.shape"
   ]
  },
  {
   "cell_type": "code",
   "execution_count": 3,
   "metadata": {
    "execution": {
     "iopub.execute_input": "2021-07-10T15:06:48.140234Z",
     "iopub.status.busy": "2021-07-10T15:06:48.139641Z",
     "iopub.status.idle": "2021-07-10T15:06:48.587507Z",
     "shell.execute_reply": "2021-07-10T15:06:48.588124Z"
    }
   },
   "outputs": [
    {
     "data": {
      "text/plain": [
       "723"
      ]
     },
     "execution_count": 1,
     "metadata": {},
     "output_type": "execute_result"
    }
   ],
   "source": [
    "individual_fields = ['BrNum', 'Sex', 'Race', 'Dx']\n",
    "dfi = df[individual_fields].groupby(individual_fields).first().reset_index()\n",
    "dfi.shape[0] "
   ]
  },
  {
   "cell_type": "code",
   "execution_count": 4,
   "metadata": {
    "execution": {
     "iopub.execute_input": "2021-07-10T15:06:48.595073Z",
     "iopub.status.busy": "2021-07-10T15:06:48.593838Z",
     "iopub.status.idle": "2021-07-10T15:06:48.597985Z",
     "shell.execute_reply": "2021-07-10T15:06:48.596997Z"
    }
   },
   "outputs": [],
   "source": [
    "assert(dfi.shape[0] == len(set(dfi['BrNum'])))"
   ]
  },
  {
   "cell_type": "code",
   "execution_count": 5,
   "metadata": {
    "execution": {
     "iopub.execute_input": "2021-07-10T15:06:48.608019Z",
     "iopub.status.busy": "2021-07-10T15:06:48.606668Z",
     "iopub.status.idle": "2021-07-10T15:06:48.625327Z",
     "shell.execute_reply": "2021-07-10T15:06:48.624664Z"
    }
   },
   "outputs": [
    {
     "data": {
      "text/plain": [
       "(723, 5)"
      ]
     },
     "execution_count": 1,
     "metadata": {},
     "output_type": "execute_result"
    }
   ],
   "source": [
    "dfi = df[individual_fields + ['Age']].groupby(individual_fields).first().reset_index()\n",
    "dfi.to_csv('individual_phenotypes.csv', index=None)\n",
    "dfi.shape"
   ]
  },
  {
   "cell_type": "code",
   "execution_count": 6,
   "metadata": {
    "execution": {
     "iopub.execute_input": "2021-07-10T15:06:48.632507Z",
     "iopub.status.busy": "2021-07-10T15:06:48.631100Z",
     "iopub.status.idle": "2021-07-10T15:06:48.644924Z",
     "shell.execute_reply": "2021-07-10T15:06:48.645736Z"
    }
   },
   "outputs": [
    {
     "data": {
      "text/html": [
       "<div>\n",
       "<style scoped>\n",
       "    .dataframe tbody tr th:only-of-type {\n",
       "        vertical-align: middle;\n",
       "    }\n",
       "\n",
       "    .dataframe tbody tr th {\n",
       "        vertical-align: top;\n",
       "    }\n",
       "\n",
       "    .dataframe thead th {\n",
       "        text-align: right;\n",
       "    }\n",
       "</style>\n",
       "<table border=\"1\" class=\"dataframe\">\n",
       "  <thead>\n",
       "    <tr style=\"text-align: right;\">\n",
       "      <th></th>\n",
       "      <th>BrNum</th>\n",
       "      <th>Sex</th>\n",
       "      <th>Race</th>\n",
       "      <th>Dx</th>\n",
       "      <th>Age</th>\n",
       "    </tr>\n",
       "  </thead>\n",
       "  <tbody>\n",
       "    <tr>\n",
       "      <th>0</th>\n",
       "      <td>Br1003</td>\n",
       "      <td>F</td>\n",
       "      <td>AA</td>\n",
       "      <td>Control</td>\n",
       "      <td>52.57</td>\n",
       "    </tr>\n",
       "    <tr>\n",
       "      <th>1</th>\n",
       "      <td>Br1004</td>\n",
       "      <td>M</td>\n",
       "      <td>AA</td>\n",
       "      <td>Control</td>\n",
       "      <td>21.01</td>\n",
       "    </tr>\n",
       "    <tr>\n",
       "      <th>2</th>\n",
       "      <td>Br1006</td>\n",
       "      <td>M</td>\n",
       "      <td>AA</td>\n",
       "      <td>Control</td>\n",
       "      <td>57.89</td>\n",
       "    </tr>\n",
       "    <tr>\n",
       "      <th>3</th>\n",
       "      <td>Br1007</td>\n",
       "      <td>M</td>\n",
       "      <td>AA</td>\n",
       "      <td>Control</td>\n",
       "      <td>57.10</td>\n",
       "    </tr>\n",
       "    <tr>\n",
       "      <th>4</th>\n",
       "      <td>Br1016</td>\n",
       "      <td>M</td>\n",
       "      <td>CAUC</td>\n",
       "      <td>Schizo</td>\n",
       "      <td>20.22</td>\n",
       "    </tr>\n",
       "  </tbody>\n",
       "</table>\n",
       "</div>"
      ],
      "text/plain": [
       "    BrNum Sex  Race       Dx    Age\n",
       "0  Br1003   F    AA  Control  52.57\n",
       "1  Br1004   M    AA  Control  21.01\n",
       "2  Br1006   M    AA  Control  57.89\n",
       "3  Br1007   M    AA  Control  57.10\n",
       "4  Br1016   M  CAUC   Schizo  20.22"
      ]
     },
     "execution_count": 1,
     "metadata": {},
     "output_type": "execute_result"
    }
   ],
   "source": [
    "dfi.head()"
   ]
  },
  {
   "cell_type": "code",
   "execution_count": null,
   "metadata": {},
   "outputs": [],
   "source": []
  }
 ],
 "metadata": {
  "kernelspec": {
   "display_name": "Python 3",
   "language": "python",
   "name": "python3"
  },
  "language_info": {
   "codemirror_mode": {
    "name": "ipython",
    "version": 3
   },
   "file_extension": ".py",
   "mimetype": "text/x-python",
   "name": "python",
   "nbconvert_exporter": "python",
   "pygments_lexer": "ipython3",
   "version": "3.9.1"
  }
 },
 "nbformat": 4,
 "nbformat_minor": 4
}
